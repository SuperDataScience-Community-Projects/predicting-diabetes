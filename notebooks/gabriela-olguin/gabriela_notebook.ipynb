{
 "cells": [
  {
   "cell_type": "markdown",
   "metadata": {},
   "source": [
    "# 1. Predicting diabetes likelihood based on demographic and health data, using machine learning\n",
    "\n",
    "Approach:\n",
    "\n",
    "1. Problem definition\n",
    "2. Dictionary\n",
    "3. Importing libraraies and Data\n",
    "4. Exploratory Data Analysis\n",
    "5. Evaluation\n",
    "6. Features\n",
    "7. Modelling\n",
    "8. Experimentation\n",
    "9. Deploying in app"
   ]
  },
  {
   "cell_type": "markdown",
   "metadata": {},
   "source": [
    "## 1. Problem Definition\n",
    "> Given clinical parameters about a patient and their demographics, can we predict whether or not they are likley to have diabates?"
   ]
  },
  {
   "cell_type": "markdown",
   "metadata": {},
   "source": [
    " ## 2. Diabetes Dataset Data Dictionary \n",
    " \n",
    " Data Dictionary\n",
    "\n",
    "1. **year**: \n",
    "   - **Description**: The year in which the data was collected.\n",
    "   - **Type**: Integer\n",
    "\n",
    "2. **gender**: \n",
    "   - **Description**: The sex of the individual (1= Male; 0 = Female).\n",
    "   - **Type**: Categorical\n",
    "\n",
    "3. **age**: \n",
    "   - **Description**: The age of the individual in years.\n",
    "   - **Type**: Integer\n",
    "\n",
    "4. **location**: \n",
    "   - **Description**: The geographical area where the individual resides (e.g., city, state).\n",
    "   - **Type**: Categorical\n",
    "\n",
    "5. **race:AfricanAmerican**: \n",
    "   - **Description**: Indicates whether the individual identifies as African American (Yes/No).\n",
    "   - **Type**: Categorical\n",
    "\n",
    "6. **race:Asian**: \n",
    "   - **Description**: Indicates whether the individual identifies as Asian (Yes/No).\n",
    "   - **Type**: Categorical\n",
    "\n",
    "7. **race:Caucasian**: \n",
    "   - **Description**: Indicates whether the individual identifies as Caucasian (Yes/No).\n",
    "   - **Type**: Categorical\n",
    "\n",
    "8. **race:Hispanic**: \n",
    "   - **Description**: Indicates whether the individual identifies as Hispanic (Yes/No).\n",
    "   - **Type**: Categorical\n",
    "\n",
    "9. **race:Other**: \n",
    "   - **Description**: Indicates whether the individual identifies with a race not listed above (Yes/No).\n",
    "   - **Type**: Categorical\n",
    "\n",
    "10. **hypertension**: \n",
    "    - **Description**: Indicates if the individual has high blood pressure (Yes/No).\n",
    "    - **Type**: Categorical\n",
    "\n",
    "11. **heart_disease**: \n",
    "    - **Description**: Indicates if the individual has a history of heart disease (Yes/No).\n",
    "    - **Type**: Categorical\n",
    "\n",
    "12. **smoking_history**: \n",
    "    - **Description**: Indicates if the individual has a history of smoking (e.g., Never, Former, Current).\n",
    "    - **Type**: Categorical\n",
    "\n",
    "13. **bmi**: \n",
    "    - **Description**: Body Mass Index, a measure of body fat based on height and weight.\n",
    "    - **Type**: Float (decimal)\n",
    "\n",
    "14. **hbA1c_level**: \n",
    "    - **Description**: A measure of average blood sugar levels over the past 2-3 months, expressed as a percentage.\n",
    "    - **Type**: Float (decimal)\n",
    "\n",
    "15. **blood_glucose_level**: \n",
    "    - **Description**: The current level of glucose in the blood, typically measured in mg/dL.\n",
    "    - **Type**: Float (decimal)\n",
    "\n",
    "16. **diabetes**: \n",
    "    - **Description**: Indicates whether the individual has been diagnosed with diabetes (Yes/No).\n",
    "    - **Type**: Categorical\n",
    "\n",
    "### Purpose of the Dataset\n",
    "\n",
    "This dataset aims to collect and analyze various factors associated with diabetes and its related health conditions. By understanding the demographics, health history, and other relevant metrics, researchers and healthcare professionals can identify patterns and risk factors associated with diabetes.\n",
    "\n"
   ]
  },
  {
   "cell_type": "markdown",
   "metadata": {},
   "source": [
    "## 3. Importing dataset and libraries"
   ]
  },
  {
   "cell_type": "code",
   "execution_count": 1,
   "metadata": {},
   "outputs": [],
   "source": [
    "#Libraries\n",
    "\n",
    "import numpy as np\n",
    "import pandas as pd\n",
    "import matplotlib.pyplot as plt\n",
    "import seaborn as sns\n",
    "%matplotlib inline\n",
    "\n",
    "#Models from SKlearn\n",
    "from sklearn.linear_model import LogisticRegression\n",
    "from sklearn.neighbors import KNeighborsClassifier\n",
    "from sklearn.ensemble import RandomForestClassifier\n",
    "\n",
    "#Model Evaluations\n",
    "from sklearn.model_selection import train_test_split, cross_val_score\n",
    "from sklearn.model_selection import RandomizedSearchCV, GridSearchCV\n",
    "from sklearn.metrics import confusion_matrix, classification_report\n",
    "from sklearn.metrics import precision_score, recall_score, f1_score\n",
    "from sklearn.metrics import plot_roc_curve"
   ]
  },
  {
   "cell_type": "code",
   "execution_count": 2,
   "metadata": {},
   "outputs": [
    {
     "data": {
      "text/html": [
       "<div>\n",
       "<style scoped>\n",
       "    .dataframe tbody tr th:only-of-type {\n",
       "        vertical-align: middle;\n",
       "    }\n",
       "\n",
       "    .dataframe tbody tr th {\n",
       "        vertical-align: top;\n",
       "    }\n",
       "\n",
       "    .dataframe thead th {\n",
       "        text-align: right;\n",
       "    }\n",
       "</style>\n",
       "<table border=\"1\" class=\"dataframe\">\n",
       "  <thead>\n",
       "    <tr style=\"text-align: right;\">\n",
       "      <th></th>\n",
       "      <th>year</th>\n",
       "      <th>gender</th>\n",
       "      <th>age</th>\n",
       "      <th>location</th>\n",
       "      <th>race:AfricanAmerican</th>\n",
       "      <th>race:Asian</th>\n",
       "      <th>race:Caucasian</th>\n",
       "      <th>race:Hispanic</th>\n",
       "      <th>race:Other</th>\n",
       "      <th>hypertension</th>\n",
       "      <th>heart_disease</th>\n",
       "      <th>smoking_history</th>\n",
       "      <th>bmi</th>\n",
       "      <th>hbA1c_level</th>\n",
       "      <th>blood_glucose_level</th>\n",
       "      <th>diabetes</th>\n",
       "    </tr>\n",
       "  </thead>\n",
       "  <tbody>\n",
       "    <tr>\n",
       "      <th>0</th>\n",
       "      <td>2020</td>\n",
       "      <td>Female</td>\n",
       "      <td>32.0</td>\n",
       "      <td>Alabama</td>\n",
       "      <td>0</td>\n",
       "      <td>0</td>\n",
       "      <td>0</td>\n",
       "      <td>0</td>\n",
       "      <td>1</td>\n",
       "      <td>0</td>\n",
       "      <td>0</td>\n",
       "      <td>never</td>\n",
       "      <td>27.32</td>\n",
       "      <td>5.0</td>\n",
       "      <td>100</td>\n",
       "      <td>0</td>\n",
       "    </tr>\n",
       "    <tr>\n",
       "      <th>1</th>\n",
       "      <td>2015</td>\n",
       "      <td>Female</td>\n",
       "      <td>29.0</td>\n",
       "      <td>Alabama</td>\n",
       "      <td>0</td>\n",
       "      <td>1</td>\n",
       "      <td>0</td>\n",
       "      <td>0</td>\n",
       "      <td>0</td>\n",
       "      <td>0</td>\n",
       "      <td>0</td>\n",
       "      <td>never</td>\n",
       "      <td>19.95</td>\n",
       "      <td>5.0</td>\n",
       "      <td>90</td>\n",
       "      <td>0</td>\n",
       "    </tr>\n",
       "    <tr>\n",
       "      <th>2</th>\n",
       "      <td>2015</td>\n",
       "      <td>Male</td>\n",
       "      <td>18.0</td>\n",
       "      <td>Alabama</td>\n",
       "      <td>0</td>\n",
       "      <td>0</td>\n",
       "      <td>0</td>\n",
       "      <td>0</td>\n",
       "      <td>1</td>\n",
       "      <td>0</td>\n",
       "      <td>0</td>\n",
       "      <td>never</td>\n",
       "      <td>23.76</td>\n",
       "      <td>4.8</td>\n",
       "      <td>160</td>\n",
       "      <td>0</td>\n",
       "    </tr>\n",
       "    <tr>\n",
       "      <th>3</th>\n",
       "      <td>2015</td>\n",
       "      <td>Male</td>\n",
       "      <td>41.0</td>\n",
       "      <td>Alabama</td>\n",
       "      <td>0</td>\n",
       "      <td>0</td>\n",
       "      <td>1</td>\n",
       "      <td>0</td>\n",
       "      <td>0</td>\n",
       "      <td>0</td>\n",
       "      <td>0</td>\n",
       "      <td>never</td>\n",
       "      <td>27.32</td>\n",
       "      <td>4.0</td>\n",
       "      <td>159</td>\n",
       "      <td>0</td>\n",
       "    </tr>\n",
       "    <tr>\n",
       "      <th>4</th>\n",
       "      <td>2016</td>\n",
       "      <td>Female</td>\n",
       "      <td>52.0</td>\n",
       "      <td>Alabama</td>\n",
       "      <td>1</td>\n",
       "      <td>0</td>\n",
       "      <td>0</td>\n",
       "      <td>0</td>\n",
       "      <td>0</td>\n",
       "      <td>0</td>\n",
       "      <td>0</td>\n",
       "      <td>never</td>\n",
       "      <td>23.75</td>\n",
       "      <td>6.5</td>\n",
       "      <td>90</td>\n",
       "      <td>0</td>\n",
       "    </tr>\n",
       "    <tr>\n",
       "      <th>...</th>\n",
       "      <td>...</td>\n",
       "      <td>...</td>\n",
       "      <td>...</td>\n",
       "      <td>...</td>\n",
       "      <td>...</td>\n",
       "      <td>...</td>\n",
       "      <td>...</td>\n",
       "      <td>...</td>\n",
       "      <td>...</td>\n",
       "      <td>...</td>\n",
       "      <td>...</td>\n",
       "      <td>...</td>\n",
       "      <td>...</td>\n",
       "      <td>...</td>\n",
       "      <td>...</td>\n",
       "      <td>...</td>\n",
       "    </tr>\n",
       "    <tr>\n",
       "      <th>99995</th>\n",
       "      <td>2018</td>\n",
       "      <td>Female</td>\n",
       "      <td>33.0</td>\n",
       "      <td>Wyoming</td>\n",
       "      <td>0</td>\n",
       "      <td>0</td>\n",
       "      <td>0</td>\n",
       "      <td>0</td>\n",
       "      <td>1</td>\n",
       "      <td>0</td>\n",
       "      <td>0</td>\n",
       "      <td>never</td>\n",
       "      <td>21.21</td>\n",
       "      <td>6.5</td>\n",
       "      <td>90</td>\n",
       "      <td>0</td>\n",
       "    </tr>\n",
       "    <tr>\n",
       "      <th>99996</th>\n",
       "      <td>2016</td>\n",
       "      <td>Female</td>\n",
       "      <td>80.0</td>\n",
       "      <td>Wyoming</td>\n",
       "      <td>0</td>\n",
       "      <td>1</td>\n",
       "      <td>0</td>\n",
       "      <td>0</td>\n",
       "      <td>0</td>\n",
       "      <td>0</td>\n",
       "      <td>0</td>\n",
       "      <td>No Info</td>\n",
       "      <td>36.66</td>\n",
       "      <td>5.7</td>\n",
       "      <td>100</td>\n",
       "      <td>0</td>\n",
       "    </tr>\n",
       "    <tr>\n",
       "      <th>99997</th>\n",
       "      <td>2018</td>\n",
       "      <td>Male</td>\n",
       "      <td>46.0</td>\n",
       "      <td>Wyoming</td>\n",
       "      <td>0</td>\n",
       "      <td>1</td>\n",
       "      <td>0</td>\n",
       "      <td>0</td>\n",
       "      <td>0</td>\n",
       "      <td>0</td>\n",
       "      <td>0</td>\n",
       "      <td>ever</td>\n",
       "      <td>36.12</td>\n",
       "      <td>6.2</td>\n",
       "      <td>158</td>\n",
       "      <td>0</td>\n",
       "    </tr>\n",
       "    <tr>\n",
       "      <th>99998</th>\n",
       "      <td>2018</td>\n",
       "      <td>Female</td>\n",
       "      <td>51.0</td>\n",
       "      <td>Wyoming</td>\n",
       "      <td>1</td>\n",
       "      <td>0</td>\n",
       "      <td>0</td>\n",
       "      <td>0</td>\n",
       "      <td>0</td>\n",
       "      <td>0</td>\n",
       "      <td>0</td>\n",
       "      <td>not current</td>\n",
       "      <td>29.29</td>\n",
       "      <td>6.0</td>\n",
       "      <td>155</td>\n",
       "      <td>0</td>\n",
       "    </tr>\n",
       "    <tr>\n",
       "      <th>99999</th>\n",
       "      <td>2016</td>\n",
       "      <td>Male</td>\n",
       "      <td>13.0</td>\n",
       "      <td>Wyoming</td>\n",
       "      <td>0</td>\n",
       "      <td>0</td>\n",
       "      <td>0</td>\n",
       "      <td>1</td>\n",
       "      <td>0</td>\n",
       "      <td>0</td>\n",
       "      <td>0</td>\n",
       "      <td>No Info</td>\n",
       "      <td>17.16</td>\n",
       "      <td>5.0</td>\n",
       "      <td>90</td>\n",
       "      <td>0</td>\n",
       "    </tr>\n",
       "  </tbody>\n",
       "</table>\n",
       "<p>100000 rows × 16 columns</p>\n",
       "</div>"
      ],
      "text/plain": [
       "       year  gender   age location  race:AfricanAmerican  race:Asian  \\\n",
       "0      2020  Female  32.0  Alabama                     0           0   \n",
       "1      2015  Female  29.0  Alabama                     0           1   \n",
       "2      2015    Male  18.0  Alabama                     0           0   \n",
       "3      2015    Male  41.0  Alabama                     0           0   \n",
       "4      2016  Female  52.0  Alabama                     1           0   \n",
       "...     ...     ...   ...      ...                   ...         ...   \n",
       "99995  2018  Female  33.0  Wyoming                     0           0   \n",
       "99996  2016  Female  80.0  Wyoming                     0           1   \n",
       "99997  2018    Male  46.0  Wyoming                     0           1   \n",
       "99998  2018  Female  51.0  Wyoming                     1           0   \n",
       "99999  2016    Male  13.0  Wyoming                     0           0   \n",
       "\n",
       "       race:Caucasian  race:Hispanic  race:Other  hypertension  heart_disease  \\\n",
       "0                   0              0           1             0              0   \n",
       "1                   0              0           0             0              0   \n",
       "2                   0              0           1             0              0   \n",
       "3                   1              0           0             0              0   \n",
       "4                   0              0           0             0              0   \n",
       "...               ...            ...         ...           ...            ...   \n",
       "99995               0              0           1             0              0   \n",
       "99996               0              0           0             0              0   \n",
       "99997               0              0           0             0              0   \n",
       "99998               0              0           0             0              0   \n",
       "99999               0              1           0             0              0   \n",
       "\n",
       "      smoking_history    bmi  hbA1c_level  blood_glucose_level  diabetes  \n",
       "0               never  27.32          5.0                  100         0  \n",
       "1               never  19.95          5.0                   90         0  \n",
       "2               never  23.76          4.8                  160         0  \n",
       "3               never  27.32          4.0                  159         0  \n",
       "4               never  23.75          6.5                   90         0  \n",
       "...               ...    ...          ...                  ...       ...  \n",
       "99995           never  21.21          6.5                   90         0  \n",
       "99996         No Info  36.66          5.7                  100         0  \n",
       "99997            ever  36.12          6.2                  158         0  \n",
       "99998     not current  29.29          6.0                  155         0  \n",
       "99999         No Info  17.16          5.0                   90         0  \n",
       "\n",
       "[100000 rows x 16 columns]"
      ]
     },
     "execution_count": 2,
     "metadata": {},
     "output_type": "execute_result"
    }
   ],
   "source": [
    "#Loadind data\n",
    "df = pd.read_csv(r\"C:\\Users\\Dell\\Desktop\\SDS-Predicting_diabites\\SDS-CP011-predicting-diabetes\\data\\diabetes.csv\")\n",
    "df"
   ]
  },
  {
   "cell_type": "code",
   "execution_count": 12,
   "metadata": {},
   "outputs": [
    {
     "name": "stdout",
     "output_type": "stream",
     "text": [
      "       year  gender   age location  race:AfricanAmerican  race:Asian  \\\n",
      "0      2020  Female  32.0  Alabama                     0           0   \n",
      "1      2015  Female  29.0  Alabama                     0           1   \n",
      "2      2015    Male  18.0  Alabama                     0           0   \n",
      "3      2015    Male  41.0  Alabama                     0           0   \n",
      "4      2016  Female  52.0  Alabama                     1           0   \n",
      "...     ...     ...   ...      ...                   ...         ...   \n",
      "99995  2018  Female  33.0  Wyoming                     0           0   \n",
      "99996  2016  Female  80.0  Wyoming                     0           1   \n",
      "99997  2018    Male  46.0  Wyoming                     0           1   \n",
      "99998  2018  Female  51.0  Wyoming                     1           0   \n",
      "99999  2016    Male  13.0  Wyoming                     0           0   \n",
      "\n",
      "       race:Caucasian  race:Hispanic  race:Other  hypertension  heart_disease  \\\n",
      "0                   0              0           1             0              0   \n",
      "1                   0              0           0             0              0   \n",
      "2                   0              0           1             0              0   \n",
      "3                   1              0           0             0              0   \n",
      "4                   0              0           0             0              0   \n",
      "...               ...            ...         ...           ...            ...   \n",
      "99995               0              0           1             0              0   \n",
      "99996               0              0           0             0              0   \n",
      "99997               0              0           0             0              0   \n",
      "99998               0              0           0             0              0   \n",
      "99999               0              1           0             0              0   \n",
      "\n",
      "      smoking_history    bmi  hbA1c_level  blood_glucose_level  diabetes  \\\n",
      "0               never  27.32          5.0                  100         0   \n",
      "1               never  19.95          5.0                   90         0   \n",
      "2               never  23.76          4.8                  160         0   \n",
      "3               never  27.32          4.0                  159         0   \n",
      "4               never  23.75          6.5                   90         0   \n",
      "...               ...    ...          ...                  ...       ...   \n",
      "99995           never  21.21          6.5                   90         0   \n",
      "99996         No Info  36.66          5.7                  100         0   \n",
      "99997            ever  36.12          6.2                  158         0   \n",
      "99998     not current  29.29          6.0                  155         0   \n",
      "99999         No Info  17.16          5.0                   90         0   \n",
      "\n",
      "       smoking_binary  \n",
      "0                 0.0  \n",
      "1                 0.0  \n",
      "2                 0.0  \n",
      "3                 0.0  \n",
      "4                 0.0  \n",
      "...               ...  \n",
      "99995             0.0  \n",
      "99996             NaN  \n",
      "99997             0.0  \n",
      "99998             1.0  \n",
      "99999             NaN  \n",
      "\n",
      "[100000 rows x 17 columns]\n"
     ]
    }
   ],
   "source": [
    "# Function to categorize smoking history\n",
    "def categorize_smoking_history(value):\n",
    "    if value in ['current', 'former', 'not current']:\n",
    "        return 1\n",
    "    elif value in ['ever', 'never', 'no info']:\n",
    "        return 0\n",
    "    else:\n",
    "        return None  # Handle any unexpected values\n",
    "\n",
    "# Apply the function\n",
    "df['smoking_binary'] = df['smoking_history'].apply(categorize_smoking_history)\n",
    "\n",
    "\n",
    "# Apply the function\n",
    "df['smoking_binary'] = df['smoking_history'].apply(categorize_smoking_history)\n",
    "\n",
    "\n",
    "# Combine original dataframe with one-hot encoded columns\n",
    "df = pd.concat([df], axis=1)\n",
    "df = df.drop(columns=['smoking_1.0'])\n",
    "print(df)\n"
   ]
  },
  {
   "cell_type": "code",
   "execution_count": 17,
   "metadata": {},
   "outputs": [
    {
     "name": "stdout",
     "output_type": "stream",
     "text": [
      "       year  gender   age location  race:AfricanAmerican  race:Asian  \\\n",
      "0      2020  Female  32.0  Alabama                     0           0   \n",
      "1      2015  Female  29.0  Alabama                     0           1   \n",
      "2      2015    Male  18.0  Alabama                     0           0   \n",
      "3      2015    Male  41.0  Alabama                     0           0   \n",
      "4      2016  Female  52.0  Alabama                     1           0   \n",
      "...     ...     ...   ...      ...                   ...         ...   \n",
      "99995  2018  Female  33.0  Wyoming                     0           0   \n",
      "99996  2016  Female  80.0  Wyoming                     0           1   \n",
      "99997  2018    Male  46.0  Wyoming                     0           1   \n",
      "99998  2018  Female  51.0  Wyoming                     1           0   \n",
      "99999  2016    Male  13.0  Wyoming                     0           0   \n",
      "\n",
      "       race:Caucasian  race:Hispanic  race:Other  hypertension  ...  \\\n",
      "0                   0              0           1             0  ...   \n",
      "1                   0              0           0             0  ...   \n",
      "2                   0              0           1             0  ...   \n",
      "3                   1              0           0             0  ...   \n",
      "4                   0              0           0             0  ...   \n",
      "...               ...            ...         ...           ...  ...   \n",
      "99995               0              0           1             0  ...   \n",
      "99996               0              0           0             0  ...   \n",
      "99997               0              0           0             0  ...   \n",
      "99998               0              0           0             0  ...   \n",
      "99999               0              1           0             0  ...   \n",
      "\n",
      "       location_Texas location_United States  location_Utah  location_Vermont  \\\n",
      "0                   0                      0              0                 0   \n",
      "1                   0                      0              0                 0   \n",
      "2                   0                      0              0                 0   \n",
      "3                   0                      0              0                 0   \n",
      "4                   0                      0              0                 0   \n",
      "...               ...                    ...            ...               ...   \n",
      "99995               0                      0              0                 0   \n",
      "99996               0                      0              0                 0   \n",
      "99997               0                      0              0                 0   \n",
      "99998               0                      0              0                 0   \n",
      "99999               0                      0              0                 0   \n",
      "\n",
      "       location_Virgin Islands  location_Virginia  location_Washington  \\\n",
      "0                            0                  0                    0   \n",
      "1                            0                  0                    0   \n",
      "2                            0                  0                    0   \n",
      "3                            0                  0                    0   \n",
      "4                            0                  0                    0   \n",
      "...                        ...                ...                  ...   \n",
      "99995                        0                  0                    0   \n",
      "99996                        0                  0                    0   \n",
      "99997                        0                  0                    0   \n",
      "99998                        0                  0                    0   \n",
      "99999                        0                  0                    0   \n",
      "\n",
      "       location_West Virginia  location_Wisconsin  location_Wyoming  \n",
      "0                           0                   0                 0  \n",
      "1                           0                   0                 0  \n",
      "2                           0                   0                 0  \n",
      "3                           0                   0                 0  \n",
      "4                           0                   0                 0  \n",
      "...                       ...                 ...               ...  \n",
      "99995                       0                   0                 1  \n",
      "99996                       0                   0                 1  \n",
      "99997                       0                   0                 1  \n",
      "99998                       0                   0                 1  \n",
      "99999                       0                   0                 1  \n",
      "\n",
      "[100000 rows x 71 columns]\n"
     ]
    }
   ],
   "source": [
    "# One-hot encoding\n",
    "df_encoded = pd.get_dummies(df['location'], prefix='location', drop_first=True)\n",
    "\n",
    "# Combine with the original dataframe (if needed)\n",
    "df = pd.concat([df, df_encoded], axis=1)\n",
    "\n",
    "# Display the resulting dataframe\n",
    "print(df)\n"
   ]
  },
  {
   "cell_type": "code",
   "execution_count": 15,
   "metadata": {},
   "outputs": [
    {
     "data": {
      "text/plain": [
       "(100000, 17)"
      ]
     },
     "execution_count": 15,
     "metadata": {},
     "output_type": "execute_result"
    }
   ],
   "source": [
    "df.shape"
   ]
  },
  {
   "cell_type": "markdown",
   "metadata": {},
   "source": [
    "## 4. Exploratory data analysis  (EDA)"
   ]
  },
  {
   "cell_type": "code",
   "execution_count": 15,
   "metadata": {},
   "outputs": [
    {
     "data": {
      "text/plain": [
       "0    91500\n",
       "1     8500\n",
       "Name: diabetes, dtype: int64"
      ]
     },
     "execution_count": 15,
     "metadata": {},
     "output_type": "execute_result"
    }
   ],
   "source": [
    "#How many of each class are there\n",
    "df[\"diabetes\"].value_counts()\n",
    "#We have an unbalanced classification problem"
   ]
  },
  {
   "cell_type": "code",
   "execution_count": 16,
   "metadata": {},
   "outputs": [
    {
     "data": {
      "image/png": "[encoded data removed]",
      "text/plain": [
       "<Figure size 432x288 with 1 Axes>"
      ]
     },
     "metadata": {
      "needs_background": "light"
     },
     "output_type": "display_data"
    }
   ],
   "source": [
    "df[\"diabetes\"].value_counts().plot(kind=\"bar\", color=[\"royalblue\", \"lightgreen\"]);"
   ]
  },
  {
   "cell_type": "code",
   "execution_count": 17,
   "metadata": {},
   "outputs": [
    {
     "name": "stdout",
     "output_type": "stream",
     "text": [
      "<class 'pandas.core.frame.DataFrame'>\n",
      "RangeIndex: 100000 entries, 0 to 99999\n",
      "Data columns (total 16 columns):\n",
      " #   Column                Non-Null Count   Dtype  \n",
      "---  ------                --------------   -----  \n",
      " 0   year                  100000 non-null  int64  \n",
      " 1   gender                100000 non-null  object \n",
      " 2   age                   100000 non-null  float64\n",
      " 3   location              100000 non-null  object \n",
      " 4   race:AfricanAmerican  100000 non-null  int64  \n",
      " 5   race:Asian            100000 non-null  int64  \n",
      " 6   race:Caucasian        100000 non-null  int64  \n",
      " 7   race:Hispanic         100000 non-null  int64  \n",
      " 8   race:Other            100000 non-null  int64  \n",
      " 9   hypertension          100000 non-null  int64  \n",
      " 10  heart_disease         100000 non-null  int64  \n",
      " 11  smoking_history       100000 non-null  object \n",
      " 12  bmi                   100000 non-null  float64\n",
      " 13  hbA1c_level           100000 non-null  float64\n",
      " 14  blood_glucose_level   100000 non-null  int64  \n",
      " 15  diabetes              100000 non-null  int64  \n",
      "dtypes: float64(3), int64(10), object(3)\n",
      "memory usage: 12.2+ MB\n"
     ]
    }
   ],
   "source": [
    "df.info()"
   ]
  },
  {
   "cell_type": "code",
   "execution_count": 18,
   "metadata": {},
   "outputs": [
    {
     "data": {
      "text/plain": [
       "year                    0\n",
       "gender                  0\n",
       "age                     0\n",
       "location                0\n",
       "race:AfricanAmerican    0\n",
       "race:Asian              0\n",
       "race:Caucasian          0\n",
       "race:Hispanic           0\n",
       "race:Other              0\n",
       "hypertension            0\n",
       "heart_disease           0\n",
       "smoking_history         0\n",
       "bmi                     0\n",
       "hbA1c_level             0\n",
       "blood_glucose_level     0\n",
       "diabetes                0\n",
       "dtype: int64"
      ]
     },
     "execution_count": 18,
     "metadata": {},
     "output_type": "execute_result"
    }
   ],
   "source": [
    "#Are there any missing values?\n",
    "df.isna().sum()"
   ]
  },
  {
   "cell_type": "markdown",
   "metadata": {},
   "source": [
    "There are no missing values in this dataset."
   ]
  },
  {
   "cell_type": "code",
   "execution_count": 19,
   "metadata": {},
   "outputs": [
    {
     "data": {
      "text/html": [
       "<div>\n",
       "<style scoped>\n",
       "    .dataframe tbody tr th:only-of-type {\n",
       "        vertical-align: middle;\n",
       "    }\n",
       "\n",
       "    .dataframe tbody tr th {\n",
       "        vertical-align: top;\n",
       "    }\n",
       "\n",
       "    .dataframe thead th {\n",
       "        text-align: right;\n",
       "    }\n",
       "</style>\n",
       "<table border=\"1\" class=\"dataframe\">\n",
       "  <thead>\n",
       "    <tr style=\"text-align: right;\">\n",
       "      <th></th>\n",
       "      <th>year</th>\n",
       "      <th>age</th>\n",
       "      <th>race:AfricanAmerican</th>\n",
       "      <th>race:Asian</th>\n",
       "      <th>race:Caucasian</th>\n",
       "      <th>race:Hispanic</th>\n",
       "      <th>race:Other</th>\n",
       "      <th>hypertension</th>\n",
       "      <th>heart_disease</th>\n",
       "      <th>bmi</th>\n",
       "      <th>hbA1c_level</th>\n",
       "      <th>blood_glucose_level</th>\n",
       "      <th>diabetes</th>\n",
       "    </tr>\n",
       "  </thead>\n",
       "  <tbody>\n",
       "    <tr>\n",
       "      <th>count</th>\n",
       "      <td>100000.000000</td>\n",
       "      <td>100000.000000</td>\n",
       "      <td>100000.000000</td>\n",
       "      <td>100000.000000</td>\n",
       "      <td>100000.000000</td>\n",
       "      <td>100000.00000</td>\n",
       "      <td>100000.000000</td>\n",
       "      <td>100000.00000</td>\n",
       "      <td>100000.000000</td>\n",
       "      <td>100000.000000</td>\n",
       "      <td>100000.000000</td>\n",
       "      <td>100000.000000</td>\n",
       "      <td>100000.000000</td>\n",
       "    </tr>\n",
       "    <tr>\n",
       "      <th>mean</th>\n",
       "      <td>2018.360820</td>\n",
       "      <td>41.885856</td>\n",
       "      <td>0.202230</td>\n",
       "      <td>0.200150</td>\n",
       "      <td>0.198760</td>\n",
       "      <td>0.19888</td>\n",
       "      <td>0.199980</td>\n",
       "      <td>0.07485</td>\n",
       "      <td>0.039420</td>\n",
       "      <td>27.320767</td>\n",
       "      <td>5.527507</td>\n",
       "      <td>138.058060</td>\n",
       "      <td>0.085000</td>\n",
       "    </tr>\n",
       "    <tr>\n",
       "      <th>std</th>\n",
       "      <td>1.345239</td>\n",
       "      <td>22.516840</td>\n",
       "      <td>0.401665</td>\n",
       "      <td>0.400114</td>\n",
       "      <td>0.399069</td>\n",
       "      <td>0.39916</td>\n",
       "      <td>0.399987</td>\n",
       "      <td>0.26315</td>\n",
       "      <td>0.194593</td>\n",
       "      <td>6.636783</td>\n",
       "      <td>1.070672</td>\n",
       "      <td>40.708136</td>\n",
       "      <td>0.278883</td>\n",
       "    </tr>\n",
       "    <tr>\n",
       "      <th>min</th>\n",
       "      <td>2015.000000</td>\n",
       "      <td>0.080000</td>\n",
       "      <td>0.000000</td>\n",
       "      <td>0.000000</td>\n",
       "      <td>0.000000</td>\n",
       "      <td>0.00000</td>\n",
       "      <td>0.000000</td>\n",
       "      <td>0.00000</td>\n",
       "      <td>0.000000</td>\n",
       "      <td>10.010000</td>\n",
       "      <td>3.500000</td>\n",
       "      <td>80.000000</td>\n",
       "      <td>0.000000</td>\n",
       "    </tr>\n",
       "    <tr>\n",
       "      <th>25%</th>\n",
       "      <td>2019.000000</td>\n",
       "      <td>24.000000</td>\n",
       "      <td>0.000000</td>\n",
       "      <td>0.000000</td>\n",
       "      <td>0.000000</td>\n",
       "      <td>0.00000</td>\n",
       "      <td>0.000000</td>\n",
       "      <td>0.00000</td>\n",
       "      <td>0.000000</td>\n",
       "      <td>23.630000</td>\n",
       "      <td>4.800000</td>\n",
       "      <td>100.000000</td>\n",
       "      <td>0.000000</td>\n",
       "    </tr>\n",
       "    <tr>\n",
       "      <th>50%</th>\n",
       "      <td>2019.000000</td>\n",
       "      <td>43.000000</td>\n",
       "      <td>0.000000</td>\n",
       "      <td>0.000000</td>\n",
       "      <td>0.000000</td>\n",
       "      <td>0.00000</td>\n",
       "      <td>0.000000</td>\n",
       "      <td>0.00000</td>\n",
       "      <td>0.000000</td>\n",
       "      <td>27.320000</td>\n",
       "      <td>5.800000</td>\n",
       "      <td>140.000000</td>\n",
       "      <td>0.000000</td>\n",
       "    </tr>\n",
       "    <tr>\n",
       "      <th>75%</th>\n",
       "      <td>2019.000000</td>\n",
       "      <td>60.000000</td>\n",
       "      <td>0.000000</td>\n",
       "      <td>0.000000</td>\n",
       "      <td>0.000000</td>\n",
       "      <td>0.00000</td>\n",
       "      <td>0.000000</td>\n",
       "      <td>0.00000</td>\n",
       "      <td>0.000000</td>\n",
       "      <td>29.580000</td>\n",
       "      <td>6.200000</td>\n",
       "      <td>159.000000</td>\n",
       "      <td>0.000000</td>\n",
       "    </tr>\n",
       "    <tr>\n",
       "      <th>max</th>\n",
       "      <td>2022.000000</td>\n",
       "      <td>80.000000</td>\n",
       "      <td>1.000000</td>\n",
       "      <td>1.000000</td>\n",
       "      <td>1.000000</td>\n",
       "      <td>1.00000</td>\n",
       "      <td>1.000000</td>\n",
       "      <td>1.00000</td>\n",
       "      <td>1.000000</td>\n",
       "      <td>95.690000</td>\n",
       "      <td>9.000000</td>\n",
       "      <td>300.000000</td>\n",
       "      <td>1.000000</td>\n",
       "    </tr>\n",
       "  </tbody>\n",
       "</table>\n",
       "</div>"
      ],
      "text/plain": [
       "                year            age  race:AfricanAmerican     race:Asian  \\\n",
       "count  100000.000000  100000.000000         100000.000000  100000.000000   \n",
       "mean     2018.360820      41.885856              0.202230       0.200150   \n",
       "std         1.345239      22.516840              0.401665       0.400114   \n",
       "min      2015.000000       0.080000              0.000000       0.000000   \n",
       "25%      2019.000000      24.000000              0.000000       0.000000   \n",
       "50%      2019.000000      43.000000              0.000000       0.000000   \n",
       "75%      2019.000000      60.000000              0.000000       0.000000   \n",
       "max      2022.000000      80.000000              1.000000       1.000000   \n",
       "\n",
       "       race:Caucasian  race:Hispanic     race:Other  hypertension  \\\n",
       "count   100000.000000   100000.00000  100000.000000  100000.00000   \n",
       "mean         0.198760        0.19888       0.199980       0.07485   \n",
       "std          0.399069        0.39916       0.399987       0.26315   \n",
       "min          0.000000        0.00000       0.000000       0.00000   \n",
       "25%          0.000000        0.00000       0.000000       0.00000   \n",
       "50%          0.000000        0.00000       0.000000       0.00000   \n",
       "75%          0.000000        0.00000       0.000000       0.00000   \n",
       "max          1.000000        1.00000       1.000000       1.00000   \n",
       "\n",
       "       heart_disease            bmi    hbA1c_level  blood_glucose_level  \\\n",
       "count  100000.000000  100000.000000  100000.000000        100000.000000   \n",
       "mean        0.039420      27.320767       5.527507           138.058060   \n",
       "std         0.194593       6.636783       1.070672            40.708136   \n",
       "min         0.000000      10.010000       3.500000            80.000000   \n",
       "25%         0.000000      23.630000       4.800000           100.000000   \n",
       "50%         0.000000      27.320000       5.800000           140.000000   \n",
       "75%         0.000000      29.580000       6.200000           159.000000   \n",
       "max         1.000000      95.690000       9.000000           300.000000   \n",
       "\n",
       "            diabetes  \n",
       "count  100000.000000  \n",
       "mean        0.085000  \n",
       "std         0.278883  \n",
       "min         0.000000  \n",
       "25%         0.000000  \n",
       "50%         0.000000  \n",
       "75%         0.000000  \n",
       "max         1.000000  "
      ]
     },
     "execution_count": 19,
     "metadata": {},
     "output_type": "execute_result"
    }
   ],
   "source": [
    "df.describe()"
   ]
  },
  {
   "cell_type": "markdown",
   "metadata": {},
   "source": [
    "# Diabetes Frequency according to gender"
   ]
  },
  {
   "cell_type": "code",
   "execution_count": 20,
   "metadata": {},
   "outputs": [
    {
     "data": {
      "text/plain": [
       "Female    58552\n",
       "Male      41430\n",
       "Other        18\n",
       "Name: gender, dtype: int64"
      ]
     },
     "execution_count": 20,
     "metadata": {},
     "output_type": "execute_result"
    }
   ],
   "source": [
    "df.gender.value_counts()"
   ]
  },
  {
   "cell_type": "code",
   "execution_count": 21,
   "metadata": {},
   "outputs": [
    {
     "data": {
      "text/html": [
       "<div>\n",
       "<style scoped>\n",
       "    .dataframe tbody tr th:only-of-type {\n",
       "        vertical-align: middle;\n",
       "    }\n",
       "\n",
       "    .dataframe tbody tr th {\n",
       "        vertical-align: top;\n",
       "    }\n",
       "\n",
       "    .dataframe thead th {\n",
       "        text-align: right;\n",
       "    }\n",
       "</style>\n",
       "<table border=\"1\" class=\"dataframe\">\n",
       "  <thead>\n",
       "    <tr style=\"text-align: right;\">\n",
       "      <th>gender</th>\n",
       "      <th>Female</th>\n",
       "      <th>Male</th>\n",
       "      <th>Other</th>\n",
       "    </tr>\n",
       "    <tr>\n",
       "      <th>diabetes</th>\n",
       "      <th></th>\n",
       "      <th></th>\n",
       "      <th></th>\n",
       "    </tr>\n",
       "  </thead>\n",
       "  <tbody>\n",
       "    <tr>\n",
       "      <th>0</th>\n",
       "      <td>54091</td>\n",
       "      <td>37391</td>\n",
       "      <td>18</td>\n",
       "    </tr>\n",
       "    <tr>\n",
       "      <th>1</th>\n",
       "      <td>4461</td>\n",
       "      <td>4039</td>\n",
       "      <td>0</td>\n",
       "    </tr>\n",
       "  </tbody>\n",
       "</table>\n",
       "</div>"
      ],
      "text/plain": [
       "gender    Female   Male  Other\n",
       "diabetes                      \n",
       "0          54091  37391     18\n",
       "1           4461   4039      0"
      ]
     },
     "execution_count": 21,
     "metadata": {},
     "output_type": "execute_result"
    }
   ],
   "source": [
    "#Compare target column with sex column\n",
    "pd.crosstab(df.diabetes, df.gender)"
   ]
  },
  {
   "cell_type": "code",
   "execution_count": 22,
   "metadata": {},
   "outputs": [
    {
     "data": {
      "image/png": "[encoded data removed]",
      "text/plain": [
       "<Figure size 720x432 with 1 Axes>"
      ]
     },
     "metadata": {
      "needs_background": "light"
     },
     "output_type": "display_data"
    }
   ],
   "source": [
    "# Create a plot cross tab\n",
    "pd.crosstab(df.diabetes, df.gender).plot(kind=\"bar\",\n",
    "                                   figsize = (10,6),\n",
    "                                   color=[\"royalblue\", \"lightgreen\"])\n",
    "\n",
    "plt.title(\"Diabetes Frequency by Gender\")\n",
    "plt.xlabel(\"0 = No disease, 1 = Disease\")\n",
    "plt.ylabel(\"Amount\")\n",
    "plt.legend([\"Female\", \"Male\"])\n",
    "plt.xticks;"
   ]
  },
  {
   "cell_type": "markdown",
   "metadata": {},
   "source": [
    "As for the current dayaset, there are more female than male patients who present diabetes. Now let's move on to the other variables."
   ]
  },
  {
   "cell_type": "markdown",
   "metadata": {},
   "source": [
    "# Diabetes Frequency according to age"
   ]
  },
  {
   "cell_type": "code",
   "execution_count": 23,
   "metadata": {},
   "outputs": [
    {
     "data": {
      "text/plain": [
       "80.00    5621\n",
       "51.00    1619\n",
       "47.00    1574\n",
       "48.00    1568\n",
       "53.00    1542\n",
       "         ... \n",
       "1.00       83\n",
       "0.48       83\n",
       "0.40       66\n",
       "0.16       59\n",
       "0.08       36\n",
       "Name: age, Length: 102, dtype: int64"
      ]
     },
     "execution_count": 23,
     "metadata": {},
     "output_type": "execute_result"
    }
   ],
   "source": [
    "df.age.value_counts()"
   ]
  },
  {
   "cell_type": "code",
   "execution_count": 24,
   "metadata": {},
   "outputs": [
    {
     "data": {
      "image/png": "[encoded data removed]",
      "text/plain": [
       "<Figure size 720x432 with 1 Axes>"
      ]
     },
     "metadata": {
      "needs_background": "light"
     },
     "output_type": "display_data"
    }
   ],
   "source": [
    "# Set up the figure and axis\n",
    "plt.figure(figsize=(10, 6))\n",
    "\n",
    "# Create the histogram\n",
    "plt.hist(df[df['diabetes'] == 1]['age'].dropna(), bins=15, alpha=0.6, color='blue', label='Diabetes Positive (1)')\n",
    "plt.hist(df[df['diabetes'] == 0]['age'].dropna(), bins=15, alpha=0.6, color='lightgreen', label='Diabetes Negative (0)')\n",
    "\n",
    "# Adding titles and labels\n",
    "plt.title('Age Distribution by Diabetes Status', fontsize=16)\n",
    "plt.xlabel('Age', fontsize=14)\n",
    "plt.ylabel('Frequency', fontsize=14)\n",
    "plt.legend()\n",
    "\n",
    "# Show the plot\n",
    "plt.grid(axis='y')\n",
    "plt.show()"
   ]
  },
  {
   "cell_type": "markdown",
   "metadata": {},
   "source": [
    "As per this firs exploratory analysis, the major concentration seems to be between the ages of 50 and 60, however age does not seem as a pivotal characteristic linked to diabetes. "
   ]
  },
  {
   "cell_type": "markdown",
   "metadata": {},
   "source": [
    "# Diabetes Frequency according to hypertension presence\n"
   ]
  },
  {
   "cell_type": "code",
   "execution_count": 29,
   "metadata": {},
   "outputs": [
    {
     "data": {
      "image/png": "[encoded data removed]",
      "text/plain": [
       "<Figure size 720x432 with 1 Axes>"
      ]
     },
     "metadata": {
      "needs_background": "light"
     },
     "output_type": "display_data"
    }
   ],
   "source": [
    "# Create a plot cross tab\n",
    "pd.crosstab(df.diabetes, df.hypertension).plot(kind=\"bar\",\n",
    "                                   figsize = (10,6),\n",
    "                                   color=[\"royalblue\", \"lightgreen\"])\n",
    "\n",
    "plt.title(\"Diabetes Frequency in hypertense patients\")\n",
    "plt.xlabel(\"0 = No disease, 1 = Disease\")\n",
    "plt.ylabel(\"Amount\")\n",
    "plt.legend([\"Hypertension\", \"No Hypertension\"])\n",
    "plt.xticks;"
   ]
  },
  {
   "cell_type": "markdown",
   "metadata": {},
   "source": [
    "Focusing on the patients that are positive to diabetes, it seems like a big part of them tend to present hypertension, however, at least based in this approach, these two paraemeters don't seem to corrarlete. \n",
    "\n",
    "Correlations will be explored later. "
   ]
  },
  {
   "cell_type": "markdown",
   "metadata": {},
   "source": [
    "# Diabetes Frequency according to heart_disease presence"
   ]
  },
  {
   "cell_type": "code",
   "execution_count": 31,
   "metadata": {},
   "outputs": [
    {
     "data": {
      "image/png": "[encoded data removed]",
      "text/plain": [
       "<Figure size 720x432 with 1 Axes>"
      ]
     },
     "metadata": {
      "needs_background": "light"
     },
     "output_type": "display_data"
    }
   ],
   "source": [
    "# Create a plot cross tab\n",
    "pd.crosstab(df.diabetes, df.heart_disease).plot(kind=\"bar\",\n",
    "                                   figsize = (10,6),\n",
    "                                   color=[\"royalblue\", \"lightgreen\"])\n",
    "\n",
    "plt.title(\"Diabetes Frequency in hypertense patients\")\n",
    "plt.xlabel(\"0 = No disease, 1 = Disease\")\n",
    "plt.ylabel(\"Amount\")\n",
    "plt.legend([\"Heart Disease\", \"No Heart Disease\"])\n",
    "plt.xticks;"
   ]
  },
  {
   "cell_type": "markdown",
   "metadata": {},
   "source": [
    "Focusing on the patients that are positive to diabetes, it seems like a big part of them tend to present heart disease, however, at least based in this approach, these two paraemeters don't seem to corrarlete. \n",
    "\n",
    "Correlations will be explored later."
   ]
  },
  {
   "cell_type": "markdown",
   "metadata": {},
   "source": [
    "# Age vs Heart Disease for Diabetes"
   ]
  },
  {
   "cell_type": "code",
   "execution_count": 39,
   "metadata": {},
   "outputs": [
    {
     "data": {
      "image/png": "[encoded data removed]",
      "text/plain": [
       "<Figure size 720x432 with 1 Axes>"
      ]
     },
     "metadata": {
      "needs_background": "light"
     },
     "output_type": "display_data"
    }
   ],
   "source": [
    "# Calculate average age for each combination of diabetes and heart disease\n",
    "average_age = df.groupby(['diabetes', 'heart_disease'])['age'].mean().unstack()\n",
    "\n",
    "# Create a horizontal bar plot\n",
    "average_age.plot(kind='barh', color=['royalblue', 'lightgreen'], figsize=(10, 6))\n",
    "\n",
    "# Add some helpful info\n",
    "plt.title(\"Average Age by Diabetes and Heart Disease Status\", fontsize=16)\n",
    "plt.xlabel(\"Average Age\", fontsize=14)\n",
    "plt.ylabel(\"Diabetes(0 = No, 1 = Yes)\", fontsize=14)\n",
    "plt.legend(title='Heart Disease', labels=['No Disease (0)', 'Disease (1)'])\n",
    "\n",
    "# Show the plot\n",
    "plt.show();\n"
   ]
  },
  {
   "cell_type": "markdown",
   "metadata": {},
   "source": [
    "According to this previous approach, people who present diabetes do not seem to have more heart disease issues than people who don't. In fact, both groups (healthy and sick people), seem to have the same chance to present heart disease. "
   ]
  },
  {
   "cell_type": "markdown",
   "metadata": {},
   "source": [
    "# Diabetes Frequency according to bmi"
   ]
  },
  {
   "cell_type": "code",
   "execution_count": 29,
   "metadata": {},
   "outputs": [
    {
     "data": {
      "image/png": "[encoded data removed]",
      "text/plain": [
       "<Figure size 720x432 with 1 Axes>"
      ]
     },
     "metadata": {
      "needs_background": "light"
     },
     "output_type": "display_data"
    }
   ],
   "source": [
    "plt.figure(figsize=(10, 6))\n",
    "\n",
    "# Create the histogram for BMI\n",
    "plt.hist(df[df['diabetes'] == 1]['bmi'].dropna(), bins=15, alpha=0.6, color='blue', label='Diabetes Positive (1)')\n",
    "plt.hist(df[df['diabetes'] == 0]['bmi'].dropna(), bins=15, alpha=0.6, color='lightgreen', label='Diabetes Negative (0)')\n",
    "\n",
    "# Adding titles and labels\n",
    "plt.title('BMI Distribution by Diabetes Status', fontsize=16)\n",
    "plt.xlabel('Body Mass Index (BMI)', fontsize=14)\n",
    "plt.ylabel('Frequency', fontsize=14)\n",
    "plt.legend()\n",
    "\n",
    "# Show the plot\n",
    "plt.grid(axis='y')\n",
    "plt.show()"
   ]
  },
  {
   "cell_type": "markdown",
   "metadata": {},
   "source": [
    "For this paraemeter, let's take into consideration the following:\n",
    "* Underweight: BMI less than 18.5 kg/m^2 \n",
    "* Healthy weight: BMI between 18.5 and 24.9 kg/m^2 \n",
    "* Overweight: BMI between 25 and 29.9 kg/m^2 \n",
    "* Obesity: BMI between 30 and 39.9 kg/m^2 \n",
    "* Severe obesity: BMI greater than or equal to 40 kg/m^2\n",
    "\n",
    "For this dataset, patients considered Obese and Overweight seem to be more likeley to test positive for diabetes. "
   ]
  },
  {
   "cell_type": "markdown",
   "metadata": {},
   "source": [
    "# Diabetes Frequency according to hbA1c_level"
   ]
  },
  {
   "cell_type": "code",
   "execution_count": 32,
   "metadata": {},
   "outputs": [
    {
     "data": {
      "image/png": "[encoded data removed]",
      "text/plain": [
       "<Figure size 720x432 with 1 Axes>"
      ]
     },
     "metadata": {
      "needs_background": "light"
     },
     "output_type": "display_data"
    }
   ],
   "source": [
    "plt.figure(figsize=(10, 6))\n",
    "\n",
    "# Create the histogram for hbA1c_level\n",
    "plt.hist(df[df['diabetes'] == 1]['hbA1c_level'].dropna(), bins=15, alpha=0.6, color='blue', label='Diabetes Positive (1)')\n",
    "plt.hist(df[df['diabetes'] == 0]['hbA1c_level'].dropna(), bins=15, alpha=0.6, color='lightgreen', label='Diabetes Negative (0)')\n",
    "\n",
    "# Adding titles and labels\n",
    "plt.title('Average blood sugar levels over the past 2-3 months by Diabetes Status', fontsize=16)\n",
    "plt.xlabel('Average blood sugar levels over the past 2-3 months (hbA1c_level)', fontsize=14)\n",
    "plt.ylabel('Frequency', fontsize=14)\n",
    "plt.legend()\n",
    "\n",
    "# Show the plot\n",
    "\n",
    "plt.show();"
   ]
  },
  {
   "cell_type": "markdown",
   "metadata": {},
   "source": [
    "For this paraemter let's take into consideration the following:\n",
    "\n",
    "HbA1c_level is a measure of average blood sugar levels over the past 2-3 months, expressed as a percentage and blood glucose levels. Taking this into consideration, for an HbA1c test to classify as normal, or in the non-diabetic range, the value must be below 5.7 %. Anyone with an HbA1c value of 5.7 % to 6.4 % is considered to be prediabetic, while diabetes can be diagnosed with a HbA1c of 6.5% or higher.\n",
    "\n",
    "Taking into consideration the previous information, a stronger correlation between this feature and diabetees can be expected, as opposed to the previous parameters analyzed so far.\n"
   ]
  },
  {
   "cell_type": "markdown",
   "metadata": {},
   "source": [
    " # Diabetes Frequency according to blood glucose level"
   ]
  },
  {
   "cell_type": "code",
   "execution_count": 34,
   "metadata": {},
   "outputs": [
    {
     "data": {
      "image/png": "[encoded data removed]",
      "text/plain": [
       "<Figure size 720x432 with 1 Axes>"
      ]
     },
     "metadata": {
      "needs_background": "light"
     },
     "output_type": "display_data"
    }
   ],
   "source": [
    "plt.figure(figsize=(10, 6))\n",
    "\n",
    "# Create the histogram for Glucose Level\n",
    "plt.hist(df[df['diabetes'] == 1]['blood_glucose_level'].dropna(), bins=15, alpha=0.6, color='blue', label='Diabetes Positive (1)')\n",
    "plt.hist(df[df['diabetes'] == 0]['blood_glucose_level'].dropna(), bins=15, alpha=0.6, color='lightgreen', label='Diabetes Negative (0)')\n",
    "\n",
    "# Adding titles and labels\n",
    "plt.title('Blood Glucose Level by Diabetes Status', fontsize=16)\n",
    "plt.xlabel('Blood Glucose Level', fontsize=14)\n",
    "plt.ylabel('Frequency', fontsize=14)\n",
    "plt.legend()\n",
    "\n",
    "# Show the plot\n",
    "\n",
    "plt.show();"
   ]
  },
  {
   "cell_type": "markdown",
   "metadata": {},
   "source": [
    "For this paraemter let's take into consideration the following:\n",
    "\n",
    "A normal fasting blood glucose level is between 70 and 100 mg/dL (3.9 and 5.6 mmol/L). A blood glucose level between 100 and 125 mg/dL (5.6 and 6.9 mmol/L) is considered prediabetes, and a level of 126 mg/dL (7.0 mmol/L) or higher on two separate tests is diagnosed as diabetes.\n",
    "\n",
    "Taking into consideration the previous information, a stronger correlation between this feature and diabetees can be expected, as opposed to the previous parameters (safe for hbA1C-level) analyzed so far."
   ]
  },
  {
   "cell_type": "code",
   "execution_count": 7,
   "metadata": {},
   "outputs": [
    {
     "data": {
      "image/png": "[encoded data removed]",
      "text/plain": [
       "<Figure size 720x432 with 1 Axes>"
      ]
     },
     "metadata": {
      "needs_background": "light"
     },
     "output_type": "display_data"
    }
   ],
   "source": [
    "# Diabetes Frequency vs smoking history\n",
    "# Create a plot cross tab\n",
    "pd.crosstab(df.diabetes, df.heart_disease).plot(kind=\"bar\",\n",
    "                                   figsize = (10,6),\n",
    "                                   color=[\"royalblue\", \"lightgreen\"])\n",
    "\n",
    "plt.title(\"Diabetes Frequency in smoking patients\")\n",
    "plt.xlabel(\"0 = No disease, 1 = Disease\")\n",
    "plt.ylabel(\"Amount\")\n",
    "plt.legend([\"Smoking\", \"No Smoking\"])\n",
    "plt.xticks;"
   ]
  },
  {
   "cell_type": "code",
   "execution_count": 13,
   "metadata": {},
   "outputs": [
    {
     "data": {
      "text/html": [
       "<div>\n",
       "<style scoped>\n",
       "    .dataframe tbody tr th:only-of-type {\n",
       "        vertical-align: middle;\n",
       "    }\n",
       "\n",
       "    .dataframe tbody tr th {\n",
       "        vertical-align: top;\n",
       "    }\n",
       "\n",
       "    .dataframe thead th {\n",
       "        text-align: right;\n",
       "    }\n",
       "</style>\n",
       "<table border=\"1\" class=\"dataframe\">\n",
       "  <thead>\n",
       "    <tr style=\"text-align: right;\">\n",
       "      <th></th>\n",
       "      <th>year</th>\n",
       "      <th>age</th>\n",
       "      <th>race:AfricanAmerican</th>\n",
       "      <th>race:Asian</th>\n",
       "      <th>race:Caucasian</th>\n",
       "      <th>race:Hispanic</th>\n",
       "      <th>race:Other</th>\n",
       "      <th>hypertension</th>\n",
       "      <th>heart_disease</th>\n",
       "      <th>bmi</th>\n",
       "      <th>hbA1c_level</th>\n",
       "      <th>blood_glucose_level</th>\n",
       "      <th>diabetes</th>\n",
       "      <th>smoking_binary</th>\n",
       "    </tr>\n",
       "  </thead>\n",
       "  <tbody>\n",
       "    <tr>\n",
       "      <th>year</th>\n",
       "      <td>1.000000</td>\n",
       "      <td>-0.003304</td>\n",
       "      <td>-0.004291</td>\n",
       "      <td>-0.007224</td>\n",
       "      <td>0.010587</td>\n",
       "      <td>0.004153</td>\n",
       "      <td>-0.003172</td>\n",
       "      <td>-0.003806</td>\n",
       "      <td>0.001820</td>\n",
       "      <td>-0.001861</td>\n",
       "      <td>-0.000465</td>\n",
       "      <td>0.002968</td>\n",
       "      <td>-0.003464</td>\n",
       "      <td>0.003807</td>\n",
       "    </tr>\n",
       "    <tr>\n",
       "      <th>age</th>\n",
       "      <td>-0.003304</td>\n",
       "      <td>1.000000</td>\n",
       "      <td>-0.002183</td>\n",
       "      <td>0.003787</td>\n",
       "      <td>0.003790</td>\n",
       "      <td>0.001962</td>\n",
       "      <td>-0.007336</td>\n",
       "      <td>0.251171</td>\n",
       "      <td>0.233354</td>\n",
       "      <td>0.337396</td>\n",
       "      <td>0.101354</td>\n",
       "      <td>0.110672</td>\n",
       "      <td>0.258008</td>\n",
       "      <td>0.135161</td>\n",
       "    </tr>\n",
       "    <tr>\n",
       "      <th>race:AfricanAmerican</th>\n",
       "      <td>-0.004291</td>\n",
       "      <td>-0.002183</td>\n",
       "      <td>1.000000</td>\n",
       "      <td>-0.251859</td>\n",
       "      <td>-0.250765</td>\n",
       "      <td>-0.250860</td>\n",
       "      <td>-0.251725</td>\n",
       "      <td>-0.001201</td>\n",
       "      <td>-0.000664</td>\n",
       "      <td>-0.001249</td>\n",
       "      <td>0.001312</td>\n",
       "      <td>0.002292</td>\n",
       "      <td>0.004378</td>\n",
       "      <td>-0.003473</td>\n",
       "    </tr>\n",
       "    <tr>\n",
       "      <th>race:Asian</th>\n",
       "      <td>-0.007224</td>\n",
       "      <td>0.003787</td>\n",
       "      <td>-0.251859</td>\n",
       "      <td>1.000000</td>\n",
       "      <td>-0.249148</td>\n",
       "      <td>-0.249241</td>\n",
       "      <td>-0.250102</td>\n",
       "      <td>0.003977</td>\n",
       "      <td>0.006166</td>\n",
       "      <td>0.005240</td>\n",
       "      <td>-0.000473</td>\n",
       "      <td>0.000171</td>\n",
       "      <td>0.003739</td>\n",
       "      <td>-0.003736</td>\n",
       "    </tr>\n",
       "    <tr>\n",
       "      <th>race:Caucasian</th>\n",
       "      <td>0.010587</td>\n",
       "      <td>0.003790</td>\n",
       "      <td>-0.250765</td>\n",
       "      <td>-0.249148</td>\n",
       "      <td>1.000000</td>\n",
       "      <td>-0.248159</td>\n",
       "      <td>-0.249015</td>\n",
       "      <td>0.000503</td>\n",
       "      <td>-0.001225</td>\n",
       "      <td>-0.002114</td>\n",
       "      <td>-0.004033</td>\n",
       "      <td>0.004121</td>\n",
       "      <td>-0.001749</td>\n",
       "      <td>0.000830</td>\n",
       "    </tr>\n",
       "    <tr>\n",
       "      <th>race:Hispanic</th>\n",
       "      <td>0.004153</td>\n",
       "      <td>0.001962</td>\n",
       "      <td>-0.250860</td>\n",
       "      <td>-0.249241</td>\n",
       "      <td>-0.248159</td>\n",
       "      <td>1.000000</td>\n",
       "      <td>-0.249109</td>\n",
       "      <td>0.001369</td>\n",
       "      <td>-0.000771</td>\n",
       "      <td>0.002363</td>\n",
       "      <td>0.000446</td>\n",
       "      <td>-0.002684</td>\n",
       "      <td>-0.001301</td>\n",
       "      <td>0.006628</td>\n",
       "    </tr>\n",
       "    <tr>\n",
       "      <th>race:Other</th>\n",
       "      <td>-0.003172</td>\n",
       "      <td>-0.007336</td>\n",
       "      <td>-0.251725</td>\n",
       "      <td>-0.250102</td>\n",
       "      <td>-0.249015</td>\n",
       "      <td>-0.249109</td>\n",
       "      <td>1.000000</td>\n",
       "      <td>-0.004641</td>\n",
       "      <td>-0.003510</td>\n",
       "      <td>-0.004236</td>\n",
       "      <td>0.002735</td>\n",
       "      <td>-0.003905</td>\n",
       "      <td>-0.005095</td>\n",
       "      <td>-0.000217</td>\n",
       "    </tr>\n",
       "    <tr>\n",
       "      <th>hypertension</th>\n",
       "      <td>-0.003806</td>\n",
       "      <td>0.251171</td>\n",
       "      <td>-0.001201</td>\n",
       "      <td>0.003977</td>\n",
       "      <td>0.000503</td>\n",
       "      <td>0.001369</td>\n",
       "      <td>-0.004641</td>\n",
       "      <td>1.000000</td>\n",
       "      <td>0.121262</td>\n",
       "      <td>0.147666</td>\n",
       "      <td>0.080939</td>\n",
       "      <td>0.084429</td>\n",
       "      <td>0.197823</td>\n",
       "      <td>0.021965</td>\n",
       "    </tr>\n",
       "    <tr>\n",
       "      <th>heart_disease</th>\n",
       "      <td>0.001820</td>\n",
       "      <td>0.233354</td>\n",
       "      <td>-0.000664</td>\n",
       "      <td>0.006166</td>\n",
       "      <td>-0.001225</td>\n",
       "      <td>-0.000771</td>\n",
       "      <td>-0.003510</td>\n",
       "      <td>0.121262</td>\n",
       "      <td>1.000000</td>\n",
       "      <td>0.061198</td>\n",
       "      <td>0.067589</td>\n",
       "      <td>0.070066</td>\n",
       "      <td>0.171727</td>\n",
       "      <td>0.064714</td>\n",
       "    </tr>\n",
       "    <tr>\n",
       "      <th>bmi</th>\n",
       "      <td>-0.001861</td>\n",
       "      <td>0.337396</td>\n",
       "      <td>-0.001249</td>\n",
       "      <td>0.005240</td>\n",
       "      <td>-0.002114</td>\n",
       "      <td>0.002363</td>\n",
       "      <td>-0.004236</td>\n",
       "      <td>0.147666</td>\n",
       "      <td>0.061198</td>\n",
       "      <td>1.000000</td>\n",
       "      <td>0.082997</td>\n",
       "      <td>0.091261</td>\n",
       "      <td>0.214357</td>\n",
       "      <td>0.048321</td>\n",
       "    </tr>\n",
       "    <tr>\n",
       "      <th>hbA1c_level</th>\n",
       "      <td>-0.000465</td>\n",
       "      <td>0.101354</td>\n",
       "      <td>0.001312</td>\n",
       "      <td>-0.000473</td>\n",
       "      <td>-0.004033</td>\n",
       "      <td>0.000446</td>\n",
       "      <td>0.002735</td>\n",
       "      <td>0.080939</td>\n",
       "      <td>0.067589</td>\n",
       "      <td>0.082997</td>\n",
       "      <td>1.000000</td>\n",
       "      <td>0.166733</td>\n",
       "      <td>0.400660</td>\n",
       "      <td>0.020089</td>\n",
       "    </tr>\n",
       "    <tr>\n",
       "      <th>blood_glucose_level</th>\n",
       "      <td>0.002968</td>\n",
       "      <td>0.110672</td>\n",
       "      <td>0.002292</td>\n",
       "      <td>0.000171</td>\n",
       "      <td>0.004121</td>\n",
       "      <td>-0.002684</td>\n",
       "      <td>-0.003905</td>\n",
       "      <td>0.084429</td>\n",
       "      <td>0.070066</td>\n",
       "      <td>0.091261</td>\n",
       "      <td>0.166733</td>\n",
       "      <td>1.000000</td>\n",
       "      <td>0.419558</td>\n",
       "      <td>0.024349</td>\n",
       "    </tr>\n",
       "    <tr>\n",
       "      <th>diabetes</th>\n",
       "      <td>-0.003464</td>\n",
       "      <td>0.258008</td>\n",
       "      <td>0.004378</td>\n",
       "      <td>0.003739</td>\n",
       "      <td>-0.001749</td>\n",
       "      <td>-0.001301</td>\n",
       "      <td>-0.005095</td>\n",
       "      <td>0.197823</td>\n",
       "      <td>0.171727</td>\n",
       "      <td>0.214357</td>\n",
       "      <td>0.400660</td>\n",
       "      <td>0.419558</td>\n",
       "      <td>1.000000</td>\n",
       "      <td>0.048437</td>\n",
       "    </tr>\n",
       "    <tr>\n",
       "      <th>smoking_binary</th>\n",
       "      <td>0.003807</td>\n",
       "      <td>0.135161</td>\n",
       "      <td>-0.003473</td>\n",
       "      <td>-0.003736</td>\n",
       "      <td>0.000830</td>\n",
       "      <td>0.006628</td>\n",
       "      <td>-0.000217</td>\n",
       "      <td>0.021965</td>\n",
       "      <td>0.064714</td>\n",
       "      <td>0.048321</td>\n",
       "      <td>0.020089</td>\n",
       "      <td>0.024349</td>\n",
       "      <td>0.048437</td>\n",
       "      <td>1.000000</td>\n",
       "    </tr>\n",
       "  </tbody>\n",
       "</table>\n",
       "</div>"
      ],
      "text/plain": [
       "                          year       age  race:AfricanAmerican  race:Asian  \\\n",
       "year                  1.000000 -0.003304             -0.004291   -0.007224   \n",
       "age                  -0.003304  1.000000             -0.002183    0.003787   \n",
       "race:AfricanAmerican -0.004291 -0.002183              1.000000   -0.251859   \n",
       "race:Asian           -0.007224  0.003787             -0.251859    1.000000   \n",
       "race:Caucasian        0.010587  0.003790             -0.250765   -0.249148   \n",
       "race:Hispanic         0.004153  0.001962             -0.250860   -0.249241   \n",
       "race:Other           -0.003172 -0.007336             -0.251725   -0.250102   \n",
       "hypertension         -0.003806  0.251171             -0.001201    0.003977   \n",
       "heart_disease         0.001820  0.233354             -0.000664    0.006166   \n",
       "bmi                  -0.001861  0.337396             -0.001249    0.005240   \n",
       "hbA1c_level          -0.000465  0.101354              0.001312   -0.000473   \n",
       "blood_glucose_level   0.002968  0.110672              0.002292    0.000171   \n",
       "diabetes             -0.003464  0.258008              0.004378    0.003739   \n",
       "smoking_binary        0.003807  0.135161             -0.003473   -0.003736   \n",
       "\n",
       "                      race:Caucasian  race:Hispanic  race:Other  hypertension  \\\n",
       "year                        0.010587       0.004153   -0.003172     -0.003806   \n",
       "age                         0.003790       0.001962   -0.007336      0.251171   \n",
       "race:AfricanAmerican       -0.250765      -0.250860   -0.251725     -0.001201   \n",
       "race:Asian                 -0.249148      -0.249241   -0.250102      0.003977   \n",
       "race:Caucasian              1.000000      -0.248159   -0.249015      0.000503   \n",
       "race:Hispanic              -0.248159       1.000000   -0.249109      0.001369   \n",
       "race:Other                 -0.249015      -0.249109    1.000000     -0.004641   \n",
       "hypertension                0.000503       0.001369   -0.004641      1.000000   \n",
       "heart_disease              -0.001225      -0.000771   -0.003510      0.121262   \n",
       "bmi                        -0.002114       0.002363   -0.004236      0.147666   \n",
       "hbA1c_level                -0.004033       0.000446    0.002735      0.080939   \n",
       "blood_glucose_level         0.004121      -0.002684   -0.003905      0.084429   \n",
       "diabetes                   -0.001749      -0.001301   -0.005095      0.197823   \n",
       "smoking_binary              0.000830       0.006628   -0.000217      0.021965   \n",
       "\n",
       "                      heart_disease       bmi  hbA1c_level  \\\n",
       "year                       0.001820 -0.001861    -0.000465   \n",
       "age                        0.233354  0.337396     0.101354   \n",
       "race:AfricanAmerican      -0.000664 -0.001249     0.001312   \n",
       "race:Asian                 0.006166  0.005240    -0.000473   \n",
       "race:Caucasian            -0.001225 -0.002114    -0.004033   \n",
       "race:Hispanic             -0.000771  0.002363     0.000446   \n",
       "race:Other                -0.003510 -0.004236     0.002735   \n",
       "hypertension               0.121262  0.147666     0.080939   \n",
       "heart_disease              1.000000  0.061198     0.067589   \n",
       "bmi                        0.061198  1.000000     0.082997   \n",
       "hbA1c_level                0.067589  0.082997     1.000000   \n",
       "blood_glucose_level        0.070066  0.091261     0.166733   \n",
       "diabetes                   0.171727  0.214357     0.400660   \n",
       "smoking_binary             0.064714  0.048321     0.020089   \n",
       "\n",
       "                      blood_glucose_level  diabetes  smoking_binary  \n",
       "year                             0.002968 -0.003464        0.003807  \n",
       "age                              0.110672  0.258008        0.135161  \n",
       "race:AfricanAmerican             0.002292  0.004378       -0.003473  \n",
       "race:Asian                       0.000171  0.003739       -0.003736  \n",
       "race:Caucasian                   0.004121 -0.001749        0.000830  \n",
       "race:Hispanic                   -0.002684 -0.001301        0.006628  \n",
       "race:Other                      -0.003905 -0.005095       -0.000217  \n",
       "hypertension                     0.084429  0.197823        0.021965  \n",
       "heart_disease                    0.070066  0.171727        0.064714  \n",
       "bmi                              0.091261  0.214357        0.048321  \n",
       "hbA1c_level                      0.166733  0.400660        0.020089  \n",
       "blood_glucose_level              1.000000  0.419558        0.024349  \n",
       "diabetes                         0.419558  1.000000        0.048437  \n",
       "smoking_binary                   0.024349  0.048437        1.000000  "
      ]
     },
     "execution_count": 13,
     "metadata": {},
     "output_type": "execute_result"
    }
   ],
   "source": [
    "#Make correlation matrix\n",
    "df.corr()"
   ]
  },
  {
   "cell_type": "code",
   "execution_count": 14,
   "metadata": {},
   "outputs": [
    {
     "data": {
      "image/png": "[encoded data removed]",
      "text/plain": [
       "<Figure size 1080x720 with 2 Axes>"
      ]
     },
     "metadata": {
      "needs_background": "light"
     },
     "output_type": "display_data"
    }
   ],
   "source": [
    "#Making a correlation matrix more understandable with heatmap\n",
    "corr_matrix=df.corr()\n",
    "fig, ax = plt.subplots(figsize=(15,10))\n",
    "ax = sns.heatmap(corr_matrix,\n",
    "                annot=True,\n",
    "                linewidth = 0.5,\n",
    "                fmt=\".2f\",\n",
    "                cmap = \"YlGnBu\");\n",
    "bottom, top = ax.get_ylim()\n",
    "ax.set_ylim(bottom +0.5, top = -0.5);"
   ]
  },
  {
   "cell_type": "markdown",
   "metadata": {},
   "source": [
    "For this specific dataset, being a smoker or having at some point smoked doesen't seem to have any correlation with testing positive for diabetes."
   ]
  },
  {
   "cell_type": "markdown",
   "metadata": {},
   "source": [
    "Taking into consideration that the values closer to one determine strong correlation, the ones that show stronger correlation to diabetes are **hbA1c_level**, which is a measure of average blood sugar levels over the past 2-3 months, expressed as a percentage and blood glucose levels."
   ]
  }
 ],
 "metadata": {
  "kernelspec": {
   "display_name": "base",
   "language": "python",
   "name": "python3"
  },
  "language_info": {
   "codemirror_mode": {
    "name": "ipython",
    "version": 3
   },
   "file_extension": ".py",
   "mimetype": "text/x-python",
   "name": "python",
   "nbconvert_exporter": "python",
   "pygments_lexer": "ipython3",
   "version": "3.7.3"
  }
 },
 "nbformat": 4,
 "nbformat_minor": 2
}
